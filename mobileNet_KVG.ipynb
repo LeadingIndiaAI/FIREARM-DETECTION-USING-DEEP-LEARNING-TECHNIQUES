{
  "nbformat": 4,
  "nbformat_minor": 0,
  "metadata": {
    "colab": {
      "name": "mobileNet_KVG.ipynb",
      "provenance": [],
      "collapsed_sections": []
    },
    "kernelspec": {
      "name": "python3",
      "display_name": "Python 3"
    },
    "accelerator": "GPU"
  },
  "cells": [
    {
      "cell_type": "code",
      "metadata": {
        "id": "Ad1nRCuc183r",
        "colab_type": "code",
        "outputId": "cb8497a2-1372-4614-bbbc-3ee0139ed0e5",
        "colab": {
          "base_uri": "https://localhost:8080/",
          "height": 124
        }
      },
      "source": [
        "from google.colab import drive\n",
        "drive.mount('/content/drive')"
      ],
      "execution_count": 0,
      "outputs": [
        {
          "output_type": "stream",
          "text": [
            "Go to this URL in a browser: https://accounts.google.com/o/oauth2/auth?client_id=947318989803-6bn6qk8qdgf4n4g3pfee6491hc0brc4i.apps.googleusercontent.com&redirect_uri=urn%3aietf%3awg%3aoauth%3a2.0%3aoob&response_type=code&scope=email%20https%3a%2f%2fwww.googleapis.com%2fauth%2fdocs.test%20https%3a%2f%2fwww.googleapis.com%2fauth%2fdrive%20https%3a%2f%2fwww.googleapis.com%2fauth%2fdrive.photos.readonly%20https%3a%2f%2fwww.googleapis.com%2fauth%2fpeopleapi.readonly\n",
            "\n",
            "Enter your authorization code:\n",
            "··········\n",
            "Mounted at /content/drive\n"
          ],
          "name": "stdout"
        }
      ]
    },
    {
      "cell_type": "code",
      "metadata": {
        "id": "NjgbPCGT4ut5",
        "colab_type": "code",
        "colab": {}
      },
      "source": [
        "#!pip install keras-resnet"
      ],
      "execution_count": 0,
      "outputs": []
    },
    {
      "cell_type": "code",
      "metadata": {
        "id": "_diQSI-E26Tz",
        "colab_type": "code",
        "outputId": "d8f57475-354b-4074-ff64-95bb7b8f92eb",
        "colab": {
          "base_uri": "https://localhost:8080/",
          "height": 34
        }
      },
      "source": [
        "import pandas as pd\n",
        "import numpy as np \n",
        "import matplotlib.pyplot as plt\n",
        "import os\n",
        "from PIL import Image\n",
        "import keras\n",
        "%matplotlib inline\n",
        "from sklearn.utils import shuffle\n",
        "import cv2\n",
        "#from resnets_utils import *\n",
        "from keras.models import load_model\n",
        "from sklearn.datasets import load_files   \n",
        "from keras.utils import np_utils\n",
        "from glob import glob\n",
        "from keras import applications\n",
        "from keras.preprocessing.image import ImageDataGenerator \n",
        "from keras import optimizers\n",
        "from keras.models import Sequential,Model,load_model\n",
        "from keras.layers import Dense, Dropout, Flatten, Conv2D, MaxPool2D,GlobalAveragePooling2D\n",
        "from keras.callbacks import TensorBoard,ReduceLROnPlateau,ModelCheckpoint\n",
        "from keras.optimizers import Adam"
      ],
      "execution_count": 0,
      "outputs": [
        {
          "output_type": "stream",
          "text": [
            "Using TensorFlow backend.\n"
          ],
          "name": "stderr"
        }
      ]
    },
    {
      "cell_type": "code",
      "metadata": {
        "id": "cfVnWd6p2MK_",
        "colab_type": "code",
        "outputId": "d67eec6c-76c7-4298-e663-4e48e8d10179",
        "colab": {
          "base_uri": "https://localhost:8080/",
          "height": 52
        }
      },
      "source": [
        "trdata = ImageDataGenerator()\n",
        "traindata = trdata.flow_from_directory(directory=\"/content/drive/My Drive/Project/Dataset_Aug_images/Train/\",target_size=(224,224))\n",
        "tsdata = ImageDataGenerator()\n",
        "validdata = tsdata.flow_from_directory(directory=\"/content/drive/My Drive/Project/Dataset_Aug_images/Valid/\", target_size=(224,224))"
      ],
      "execution_count": 0,
      "outputs": [
        {
          "output_type": "stream",
          "text": [
            "Found 10853 images belonging to 2 classes.\n",
            "Found 660 images belonging to 2 classes.\n"
          ],
          "name": "stdout"
        }
      ]
    },
    {
      "cell_type": "code",
      "metadata": {
        "id": "UGk_eiqx2QHx",
        "colab_type": "code",
        "colab": {}
      },
      "source": [
        "img_height,img_width = 224,224 \n",
        "num_classes = 2\n",
        "#If imagenet weights are being loaded, \n",
        "#input must have a static square shape (one of (128, 128), (160, 160), (192, 192), or (224, 224))\n",
        "base_model = applications.MobileNet(weights= None, include_top=False, input_shape= (img_height,img_width,3), dropout = 0.5)"
      ],
      "execution_count": 0,
      "outputs": []
    },
    {
      "cell_type": "code",
      "metadata": {
        "id": "aVez3dmK3c4z",
        "colab_type": "code",
        "colab": {}
      },
      "source": [
        "x=base_model.output\n",
        "#x=GlobalAveragePooling2D()(x)\n",
        "#x=Dense(1024,activation='relu')(x) #we add dense layers so that the model can learn more complex functions and classify for better results.\n",
        "#x=Dropout(0.5)(x)\n",
        "x=Flatten()(x)\n",
        "x=Dense(512,activation='relu')(x) #dense layer 3\n",
        "#x=Dropout(0.5)(x)\n",
        "preds=Dense(2,activation='softmax')(x) #final layer with softmax activation\n",
        "model = Model(inputs = base_model.input, outputs = preds)"
      ],
      "execution_count": 0,
      "outputs": []
    },
    {
      "cell_type": "code",
      "metadata": {
        "id": "JoKSXhmDJvRI",
        "colab_type": "code",
        "outputId": "8a01d84b-a518-4f28-ee76-4dc3158d30e8",
        "colab": {
          "base_uri": "https://localhost:8080/",
          "height": 1000
        }
      },
      "source": [
        "model.summary()"
      ],
      "execution_count": 0,
      "outputs": [
        {
          "output_type": "stream",
          "text": [
            "Model: \"model_1\"\n",
            "_________________________________________________________________\n",
            "Layer (type)                 Output Shape              Param #   \n",
            "=================================================================\n",
            "input_1 (InputLayer)         (None, 224, 224, 3)       0         \n",
            "_________________________________________________________________\n",
            "conv1_pad (ZeroPadding2D)    (None, 225, 225, 3)       0         \n",
            "_________________________________________________________________\n",
            "conv1 (Conv2D)               (None, 112, 112, 32)      864       \n",
            "_________________________________________________________________\n",
            "conv1_bn (BatchNormalization (None, 112, 112, 32)      128       \n",
            "_________________________________________________________________\n",
            "conv1_relu (ReLU)            (None, 112, 112, 32)      0         \n",
            "_________________________________________________________________\n",
            "conv_dw_1 (DepthwiseConv2D)  (None, 112, 112, 32)      288       \n",
            "_________________________________________________________________\n",
            "conv_dw_1_bn (BatchNormaliza (None, 112, 112, 32)      128       \n",
            "_________________________________________________________________\n",
            "conv_dw_1_relu (ReLU)        (None, 112, 112, 32)      0         \n",
            "_________________________________________________________________\n",
            "conv_pw_1 (Conv2D)           (None, 112, 112, 64)      2048      \n",
            "_________________________________________________________________\n",
            "conv_pw_1_bn (BatchNormaliza (None, 112, 112, 64)      256       \n",
            "_________________________________________________________________\n",
            "conv_pw_1_relu (ReLU)        (None, 112, 112, 64)      0         \n",
            "_________________________________________________________________\n",
            "conv_pad_2 (ZeroPadding2D)   (None, 113, 113, 64)      0         \n",
            "_________________________________________________________________\n",
            "conv_dw_2 (DepthwiseConv2D)  (None, 56, 56, 64)        576       \n",
            "_________________________________________________________________\n",
            "conv_dw_2_bn (BatchNormaliza (None, 56, 56, 64)        256       \n",
            "_________________________________________________________________\n",
            "conv_dw_2_relu (ReLU)        (None, 56, 56, 64)        0         \n",
            "_________________________________________________________________\n",
            "conv_pw_2 (Conv2D)           (None, 56, 56, 128)       8192      \n",
            "_________________________________________________________________\n",
            "conv_pw_2_bn (BatchNormaliza (None, 56, 56, 128)       512       \n",
            "_________________________________________________________________\n",
            "conv_pw_2_relu (ReLU)        (None, 56, 56, 128)       0         \n",
            "_________________________________________________________________\n",
            "conv_dw_3 (DepthwiseConv2D)  (None, 56, 56, 128)       1152      \n",
            "_________________________________________________________________\n",
            "conv_dw_3_bn (BatchNormaliza (None, 56, 56, 128)       512       \n",
            "_________________________________________________________________\n",
            "conv_dw_3_relu (ReLU)        (None, 56, 56, 128)       0         \n",
            "_________________________________________________________________\n",
            "conv_pw_3 (Conv2D)           (None, 56, 56, 128)       16384     \n",
            "_________________________________________________________________\n",
            "conv_pw_3_bn (BatchNormaliza (None, 56, 56, 128)       512       \n",
            "_________________________________________________________________\n",
            "conv_pw_3_relu (ReLU)        (None, 56, 56, 128)       0         \n",
            "_________________________________________________________________\n",
            "conv_pad_4 (ZeroPadding2D)   (None, 57, 57, 128)       0         \n",
            "_________________________________________________________________\n",
            "conv_dw_4 (DepthwiseConv2D)  (None, 28, 28, 128)       1152      \n",
            "_________________________________________________________________\n",
            "conv_dw_4_bn (BatchNormaliza (None, 28, 28, 128)       512       \n",
            "_________________________________________________________________\n",
            "conv_dw_4_relu (ReLU)        (None, 28, 28, 128)       0         \n",
            "_________________________________________________________________\n",
            "conv_pw_4 (Conv2D)           (None, 28, 28, 256)       32768     \n",
            "_________________________________________________________________\n",
            "conv_pw_4_bn (BatchNormaliza (None, 28, 28, 256)       1024      \n",
            "_________________________________________________________________\n",
            "conv_pw_4_relu (ReLU)        (None, 28, 28, 256)       0         \n",
            "_________________________________________________________________\n",
            "conv_dw_5 (DepthwiseConv2D)  (None, 28, 28, 256)       2304      \n",
            "_________________________________________________________________\n",
            "conv_dw_5_bn (BatchNormaliza (None, 28, 28, 256)       1024      \n",
            "_________________________________________________________________\n",
            "conv_dw_5_relu (ReLU)        (None, 28, 28, 256)       0         \n",
            "_________________________________________________________________\n",
            "conv_pw_5 (Conv2D)           (None, 28, 28, 256)       65536     \n",
            "_________________________________________________________________\n",
            "conv_pw_5_bn (BatchNormaliza (None, 28, 28, 256)       1024      \n",
            "_________________________________________________________________\n",
            "conv_pw_5_relu (ReLU)        (None, 28, 28, 256)       0         \n",
            "_________________________________________________________________\n",
            "conv_pad_6 (ZeroPadding2D)   (None, 29, 29, 256)       0         \n",
            "_________________________________________________________________\n",
            "conv_dw_6 (DepthwiseConv2D)  (None, 14, 14, 256)       2304      \n",
            "_________________________________________________________________\n",
            "conv_dw_6_bn (BatchNormaliza (None, 14, 14, 256)       1024      \n",
            "_________________________________________________________________\n",
            "conv_dw_6_relu (ReLU)        (None, 14, 14, 256)       0         \n",
            "_________________________________________________________________\n",
            "conv_pw_6 (Conv2D)           (None, 14, 14, 512)       131072    \n",
            "_________________________________________________________________\n",
            "conv_pw_6_bn (BatchNormaliza (None, 14, 14, 512)       2048      \n",
            "_________________________________________________________________\n",
            "conv_pw_6_relu (ReLU)        (None, 14, 14, 512)       0         \n",
            "_________________________________________________________________\n",
            "conv_dw_7 (DepthwiseConv2D)  (None, 14, 14, 512)       4608      \n",
            "_________________________________________________________________\n",
            "conv_dw_7_bn (BatchNormaliza (None, 14, 14, 512)       2048      \n",
            "_________________________________________________________________\n",
            "conv_dw_7_relu (ReLU)        (None, 14, 14, 512)       0         \n",
            "_________________________________________________________________\n",
            "conv_pw_7 (Conv2D)           (None, 14, 14, 512)       262144    \n",
            "_________________________________________________________________\n",
            "conv_pw_7_bn (BatchNormaliza (None, 14, 14, 512)       2048      \n",
            "_________________________________________________________________\n",
            "conv_pw_7_relu (ReLU)        (None, 14, 14, 512)       0         \n",
            "_________________________________________________________________\n",
            "conv_dw_8 (DepthwiseConv2D)  (None, 14, 14, 512)       4608      \n",
            "_________________________________________________________________\n",
            "conv_dw_8_bn (BatchNormaliza (None, 14, 14, 512)       2048      \n",
            "_________________________________________________________________\n",
            "conv_dw_8_relu (ReLU)        (None, 14, 14, 512)       0         \n",
            "_________________________________________________________________\n",
            "conv_pw_8 (Conv2D)           (None, 14, 14, 512)       262144    \n",
            "_________________________________________________________________\n",
            "conv_pw_8_bn (BatchNormaliza (None, 14, 14, 512)       2048      \n",
            "_________________________________________________________________\n",
            "conv_pw_8_relu (ReLU)        (None, 14, 14, 512)       0         \n",
            "_________________________________________________________________\n",
            "conv_dw_9 (DepthwiseConv2D)  (None, 14, 14, 512)       4608      \n",
            "_________________________________________________________________\n",
            "conv_dw_9_bn (BatchNormaliza (None, 14, 14, 512)       2048      \n",
            "_________________________________________________________________\n",
            "conv_dw_9_relu (ReLU)        (None, 14, 14, 512)       0         \n",
            "_________________________________________________________________\n",
            "conv_pw_9 (Conv2D)           (None, 14, 14, 512)       262144    \n",
            "_________________________________________________________________\n",
            "conv_pw_9_bn (BatchNormaliza (None, 14, 14, 512)       2048      \n",
            "_________________________________________________________________\n",
            "conv_pw_9_relu (ReLU)        (None, 14, 14, 512)       0         \n",
            "_________________________________________________________________\n",
            "conv_dw_10 (DepthwiseConv2D) (None, 14, 14, 512)       4608      \n",
            "_________________________________________________________________\n",
            "conv_dw_10_bn (BatchNormaliz (None, 14, 14, 512)       2048      \n",
            "_________________________________________________________________\n",
            "conv_dw_10_relu (ReLU)       (None, 14, 14, 512)       0         \n",
            "_________________________________________________________________\n",
            "conv_pw_10 (Conv2D)          (None, 14, 14, 512)       262144    \n",
            "_________________________________________________________________\n",
            "conv_pw_10_bn (BatchNormaliz (None, 14, 14, 512)       2048      \n",
            "_________________________________________________________________\n",
            "conv_pw_10_relu (ReLU)       (None, 14, 14, 512)       0         \n",
            "_________________________________________________________________\n",
            "conv_dw_11 (DepthwiseConv2D) (None, 14, 14, 512)       4608      \n",
            "_________________________________________________________________\n",
            "conv_dw_11_bn (BatchNormaliz (None, 14, 14, 512)       2048      \n",
            "_________________________________________________________________\n",
            "conv_dw_11_relu (ReLU)       (None, 14, 14, 512)       0         \n",
            "_________________________________________________________________\n",
            "conv_pw_11 (Conv2D)          (None, 14, 14, 512)       262144    \n",
            "_________________________________________________________________\n",
            "conv_pw_11_bn (BatchNormaliz (None, 14, 14, 512)       2048      \n",
            "_________________________________________________________________\n",
            "conv_pw_11_relu (ReLU)       (None, 14, 14, 512)       0         \n",
            "_________________________________________________________________\n",
            "conv_pad_12 (ZeroPadding2D)  (None, 15, 15, 512)       0         \n",
            "_________________________________________________________________\n",
            "conv_dw_12 (DepthwiseConv2D) (None, 7, 7, 512)         4608      \n",
            "_________________________________________________________________\n",
            "conv_dw_12_bn (BatchNormaliz (None, 7, 7, 512)         2048      \n",
            "_________________________________________________________________\n",
            "conv_dw_12_relu (ReLU)       (None, 7, 7, 512)         0         \n",
            "_________________________________________________________________\n",
            "conv_pw_12 (Conv2D)          (None, 7, 7, 1024)        524288    \n",
            "_________________________________________________________________\n",
            "conv_pw_12_bn (BatchNormaliz (None, 7, 7, 1024)        4096      \n",
            "_________________________________________________________________\n",
            "conv_pw_12_relu (ReLU)       (None, 7, 7, 1024)        0         \n",
            "_________________________________________________________________\n",
            "conv_dw_13 (DepthwiseConv2D) (None, 7, 7, 1024)        9216      \n",
            "_________________________________________________________________\n",
            "conv_dw_13_bn (BatchNormaliz (None, 7, 7, 1024)        4096      \n",
            "_________________________________________________________________\n",
            "conv_dw_13_relu (ReLU)       (None, 7, 7, 1024)        0         \n",
            "_________________________________________________________________\n",
            "conv_pw_13 (Conv2D)          (None, 7, 7, 1024)        1048576   \n",
            "_________________________________________________________________\n",
            "conv_pw_13_bn (BatchNormaliz (None, 7, 7, 1024)        4096      \n",
            "_________________________________________________________________\n",
            "conv_pw_13_relu (ReLU)       (None, 7, 7, 1024)        0         \n",
            "_________________________________________________________________\n",
            "flatten_1 (Flatten)          (None, 50176)             0         \n",
            "_________________________________________________________________\n",
            "dense_1 (Dense)              (None, 512)               25690624  \n",
            "_________________________________________________________________\n",
            "dense_2 (Dense)              (None, 2)                 1026      \n",
            "=================================================================\n",
            "Total params: 28,920,514\n",
            "Trainable params: 28,898,626\n",
            "Non-trainable params: 21,888\n",
            "_________________________________________________________________\n"
          ],
          "name": "stdout"
        }
      ]
    },
    {
      "cell_type": "code",
      "metadata": {
        "id": "Fs8mVukx3jHw",
        "colab_type": "code",
        "colab": {}
      },
      "source": [
        "opt = Adam(lr=0.001)\n",
        "model.compile(optimizer=opt, loss=keras.losses.categorical_crossentropy, metrics=['accuracy'])"
      ],
      "execution_count": 0,
      "outputs": []
    },
    {
      "cell_type": "code",
      "metadata": {
        "id": "EVDe5Q7l3ozL",
        "colab_type": "code",
        "outputId": "8b29408a-398f-4de7-8352-9d5a595d147c",
        "colab": {
          "base_uri": "https://localhost:8080/",
          "height": 1000
        }
      },
      "source": [
        "from keras.callbacks import ModelCheckpoint, EarlyStopping\n",
        "checkpoint = ModelCheckpoint(\"MobileNet_3.h5\", monitor='val_accuracy', verbose=1, save_best_only=True, save_weights_only=False, mode='auto', period=1)\n",
        "early = EarlyStopping(monitor='val_accuracy', min_delta=0, patience=20, verbose=1, mode='auto')\n",
        "hist = model.fit_generator(steps_per_epoch=30,generator=traindata, validation_data= validdata,epochs=40,callbacks=[checkpoint,early])"
      ],
      "execution_count": 0,
      "outputs": [
        {
          "output_type": "stream",
          "text": [
            "Epoch 1/40\n",
            "30/30 [==============================] - 9s 294ms/step - loss: 0.0948 - accuracy: 0.9677 - val_loss: 1.9623 - val_accuracy: 0.5030\n",
            "\n",
            "Epoch 00001: val_accuracy improved from -inf to 0.50303, saving model to MobileNet_3.h5\n",
            "Epoch 2/40\n",
            "30/30 [==============================] - 8s 281ms/step - loss: 0.0838 - accuracy: 0.9646 - val_loss: 1.2495 - val_accuracy: 0.5121\n",
            "\n",
            "Epoch 00002: val_accuracy improved from 0.50303 to 0.51212, saving model to MobileNet_3.h5\n",
            "Epoch 3/40\n",
            "30/30 [==============================] - 8s 282ms/step - loss: 0.1163 - accuracy: 0.9635 - val_loss: 0.7044 - val_accuracy: 0.5803\n",
            "\n",
            "Epoch 00003: val_accuracy improved from 0.51212 to 0.58030, saving model to MobileNet_3.h5\n",
            "Epoch 4/40\n",
            "30/30 [==============================] - 8s 281ms/step - loss: 0.1186 - accuracy: 0.9656 - val_loss: 0.4768 - val_accuracy: 0.7394\n",
            "\n",
            "Epoch 00004: val_accuracy improved from 0.58030 to 0.73939, saving model to MobileNet_3.h5\n",
            "Epoch 5/40\n",
            "30/30 [==============================] - 8s 280ms/step - loss: 0.1084 - accuracy: 0.9646 - val_loss: 0.6112 - val_accuracy: 0.7455\n",
            "\n",
            "Epoch 00005: val_accuracy improved from 0.73939 to 0.74545, saving model to MobileNet_3.h5\n",
            "Epoch 6/40\n",
            "30/30 [==============================] - 8s 282ms/step - loss: 0.1164 - accuracy: 0.9573 - val_loss: 0.2369 - val_accuracy: 0.8470\n",
            "\n",
            "Epoch 00006: val_accuracy improved from 0.74545 to 0.84697, saving model to MobileNet_3.h5\n",
            "Epoch 7/40\n",
            "30/30 [==============================] - 8s 283ms/step - loss: 0.0790 - accuracy: 0.9667 - val_loss: 0.6536 - val_accuracy: 0.7470\n",
            "\n",
            "Epoch 00007: val_accuracy did not improve from 0.84697\n",
            "Epoch 8/40\n",
            "30/30 [==============================] - 8s 279ms/step - loss: 0.0945 - accuracy: 0.9656 - val_loss: 2.0151 - val_accuracy: 0.6121\n",
            "\n",
            "Epoch 00008: val_accuracy did not improve from 0.84697\n",
            "Epoch 9/40\n",
            "30/30 [==============================] - 8s 282ms/step - loss: 0.1073 - accuracy: 0.9594 - val_loss: 1.6345 - val_accuracy: 0.6500\n",
            "\n",
            "Epoch 00009: val_accuracy did not improve from 0.84697\n",
            "Epoch 10/40\n",
            "30/30 [==============================] - 9s 284ms/step - loss: 0.0949 - accuracy: 0.9615 - val_loss: 0.2068 - val_accuracy: 0.9318\n",
            "\n",
            "Epoch 00010: val_accuracy improved from 0.84697 to 0.93182, saving model to MobileNet_3.h5\n",
            "Epoch 11/40\n",
            "30/30 [==============================] - 8s 280ms/step - loss: 0.0645 - accuracy: 0.9792 - val_loss: 0.0564 - val_accuracy: 0.9530\n",
            "\n",
            "Epoch 00011: val_accuracy improved from 0.93182 to 0.95303, saving model to MobileNet_3.h5\n",
            "Epoch 12/40\n",
            "30/30 [==============================] - 8s 269ms/step - loss: 0.1554 - accuracy: 0.9625 - val_loss: 0.7038 - val_accuracy: 0.8318\n",
            "\n",
            "Epoch 00012: val_accuracy did not improve from 0.95303\n",
            "Epoch 13/40\n",
            "30/30 [==============================] - 8s 282ms/step - loss: 0.0767 - accuracy: 0.9708 - val_loss: 0.4549 - val_accuracy: 0.8803\n",
            "\n",
            "Epoch 00013: val_accuracy did not improve from 0.95303\n",
            "Epoch 14/40\n",
            "30/30 [==============================] - 8s 282ms/step - loss: 0.0614 - accuracy: 0.9792 - val_loss: 1.7876 - val_accuracy: 0.8970\n",
            "\n",
            "Epoch 00014: val_accuracy did not improve from 0.95303\n",
            "Epoch 15/40\n",
            "30/30 [==============================] - 8s 282ms/step - loss: 0.0764 - accuracy: 0.9792 - val_loss: 3.4642 - val_accuracy: 0.6258\n",
            "\n",
            "Epoch 00015: val_accuracy did not improve from 0.95303\n",
            "Epoch 16/40\n",
            "30/30 [==============================] - 8s 280ms/step - loss: 0.0726 - accuracy: 0.9771 - val_loss: 1.0934 - val_accuracy: 0.7545\n",
            "\n",
            "Epoch 00016: val_accuracy did not improve from 0.95303\n",
            "Epoch 17/40\n",
            "30/30 [==============================] - 8s 281ms/step - loss: 0.0813 - accuracy: 0.9688 - val_loss: 0.3625 - val_accuracy: 0.9212\n",
            "\n",
            "Epoch 00017: val_accuracy did not improve from 0.95303\n",
            "Epoch 18/40\n",
            "30/30 [==============================] - 8s 283ms/step - loss: 0.0801 - accuracy: 0.9698 - val_loss: 0.0089 - val_accuracy: 0.9712\n",
            "\n",
            "Epoch 00018: val_accuracy improved from 0.95303 to 0.97121, saving model to MobileNet_3.h5\n",
            "Epoch 19/40\n",
            "30/30 [==============================] - 8s 282ms/step - loss: 0.0688 - accuracy: 0.9750 - val_loss: 0.0539 - val_accuracy: 0.9727\n",
            "\n",
            "Epoch 00019: val_accuracy improved from 0.97121 to 0.97273, saving model to MobileNet_3.h5\n",
            "Epoch 20/40\n",
            "30/30 [==============================] - 8s 282ms/step - loss: 0.0948 - accuracy: 0.9646 - val_loss: 0.0038 - val_accuracy: 0.9758\n",
            "\n",
            "Epoch 00020: val_accuracy improved from 0.97273 to 0.97576, saving model to MobileNet_3.h5\n",
            "Epoch 21/40\n",
            "30/30 [==============================] - 8s 281ms/step - loss: 0.0874 - accuracy: 0.9698 - val_loss: 0.0461 - val_accuracy: 0.9106\n",
            "\n",
            "Epoch 00021: val_accuracy did not improve from 0.97576\n",
            "Epoch 22/40\n",
            "30/30 [==============================] - 8s 281ms/step - loss: 0.0714 - accuracy: 0.9646 - val_loss: 0.0104 - val_accuracy: 0.9455\n",
            "\n",
            "Epoch 00022: val_accuracy did not improve from 0.97576\n",
            "Epoch 23/40\n",
            "30/30 [==============================] - 9s 290ms/step - loss: 0.0832 - accuracy: 0.9698 - val_loss: 0.1298 - val_accuracy: 0.9485\n",
            "\n",
            "Epoch 00023: val_accuracy did not improve from 0.97576\n",
            "Epoch 24/40\n",
            "30/30 [==============================] - 8s 282ms/step - loss: 0.0479 - accuracy: 0.9875 - val_loss: 0.0169 - val_accuracy: 0.9803\n",
            "\n",
            "Epoch 00024: val_accuracy improved from 0.97576 to 0.98030, saving model to MobileNet_3.h5\n",
            "Epoch 25/40\n",
            "30/30 [==============================] - 9s 284ms/step - loss: 0.0469 - accuracy: 0.9823 - val_loss: 0.0968 - val_accuracy: 0.9833\n",
            "\n",
            "Epoch 00025: val_accuracy improved from 0.98030 to 0.98333, saving model to MobileNet_3.h5\n",
            "Epoch 26/40\n",
            "30/30 [==============================] - 8s 281ms/step - loss: 0.0974 - accuracy: 0.9583 - val_loss: 0.0127 - val_accuracy: 0.9833\n",
            "\n",
            "Epoch 00026: val_accuracy did not improve from 0.98333\n",
            "Epoch 27/40\n",
            "30/30 [==============================] - 8s 279ms/step - loss: 0.0642 - accuracy: 0.9764 - val_loss: 0.0250 - val_accuracy: 0.9818\n",
            "\n",
            "Epoch 00027: val_accuracy did not improve from 0.98333\n",
            "Epoch 28/40\n",
            "30/30 [==============================] - 8s 281ms/step - loss: 0.0318 - accuracy: 0.9865 - val_loss: 0.3164 - val_accuracy: 0.9788\n",
            "\n",
            "Epoch 00028: val_accuracy did not improve from 0.98333\n",
            "Epoch 29/40\n",
            "30/30 [==============================] - 8s 282ms/step - loss: 0.0549 - accuracy: 0.9802 - val_loss: 0.0065 - val_accuracy: 0.9788\n",
            "\n",
            "Epoch 00029: val_accuracy did not improve from 0.98333\n",
            "Epoch 30/40\n",
            "30/30 [==============================] - 8s 280ms/step - loss: 0.0601 - accuracy: 0.9771 - val_loss: 0.0305 - val_accuracy: 0.9803\n",
            "\n",
            "Epoch 00030: val_accuracy did not improve from 0.98333\n",
            "Epoch 31/40\n",
            "30/30 [==============================] - 8s 282ms/step - loss: 0.0493 - accuracy: 0.9833 - val_loss: 0.0022 - val_accuracy: 0.9848\n",
            "\n",
            "Epoch 00031: val_accuracy improved from 0.98333 to 0.98485, saving model to MobileNet_3.h5\n",
            "Epoch 32/40\n",
            "30/30 [==============================] - 8s 282ms/step - loss: 0.0600 - accuracy: 0.9771 - val_loss: 0.0288 - val_accuracy: 0.9773\n",
            "\n",
            "Epoch 00032: val_accuracy did not improve from 0.98485\n",
            "Epoch 33/40\n",
            "30/30 [==============================] - 8s 281ms/step - loss: 0.0659 - accuracy: 0.9792 - val_loss: 0.0055 - val_accuracy: 0.9803\n",
            "\n",
            "Epoch 00033: val_accuracy did not improve from 0.98485\n",
            "Epoch 34/40\n",
            "30/30 [==============================] - 9s 295ms/step - loss: 0.0414 - accuracy: 0.9833 - val_loss: 0.0199 - val_accuracy: 0.9924\n",
            "\n",
            "Epoch 00034: val_accuracy improved from 0.98485 to 0.99242, saving model to MobileNet_3.h5\n",
            "Epoch 35/40\n",
            "30/30 [==============================] - 8s 282ms/step - loss: 0.0445 - accuracy: 0.9844 - val_loss: 0.2725 - val_accuracy: 0.9379\n",
            "\n",
            "Epoch 00035: val_accuracy did not improve from 0.99242\n",
            "Epoch 36/40\n",
            "30/30 [==============================] - 8s 280ms/step - loss: 0.0566 - accuracy: 0.9760 - val_loss: 0.4279 - val_accuracy: 0.9561\n",
            "\n",
            "Epoch 00036: val_accuracy did not improve from 0.99242\n",
            "Epoch 37/40\n",
            "30/30 [==============================] - 8s 280ms/step - loss: 0.0620 - accuracy: 0.9792 - val_loss: 0.0671 - val_accuracy: 0.9727\n",
            "\n",
            "Epoch 00037: val_accuracy did not improve from 0.99242\n",
            "Epoch 38/40\n",
            "30/30 [==============================] - 8s 279ms/step - loss: 0.0500 - accuracy: 0.9781 - val_loss: 0.0488 - val_accuracy: 0.9924\n",
            "\n",
            "Epoch 00038: val_accuracy did not improve from 0.99242\n",
            "Epoch 39/40\n",
            "30/30 [==============================] - 8s 282ms/step - loss: 0.0429 - accuracy: 0.9844 - val_loss: 0.1254 - val_accuracy: 0.9273\n",
            "\n",
            "Epoch 00039: val_accuracy did not improve from 0.99242\n",
            "Epoch 40/40\n",
            "30/30 [==============================] - 8s 280ms/step - loss: 0.0446 - accuracy: 0.9802 - val_loss: 0.1527 - val_accuracy: 0.9652\n",
            "\n",
            "Epoch 00040: val_accuracy did not improve from 0.99242\n"
          ],
          "name": "stdout"
        }
      ]
    },
    {
      "cell_type": "code",
      "metadata": {
        "id": "xMFT4B4L35tL",
        "colab_type": "code",
        "outputId": "d8836f60-c898-459a-f83c-3f306df4c457",
        "colab": {
          "base_uri": "https://localhost:8080/",
          "height": 295
        }
      },
      "source": [
        "import matplotlib.pyplot as plt\n",
        "plt.plot(hist.history[\"accuracy\"])\n",
        "plt.plot(hist.history['val_accuracy'])\n",
        "plt.plot(hist.history['loss'])\n",
        "plt.plot(hist.history['val_loss'])\n",
        "plt.title(\"model accuracy\")\n",
        "plt.ylabel(\"Accuracy\")\n",
        "plt.xlabel(\"Epoch\")\n",
        "plt.legend([\"Accuracy\",\"Validation Accuracy\",\"loss\",\"Validation Loss\"])\n",
        "plt.show()"
      ],
      "execution_count": 0,
      "outputs": [
        {
          "output_type": "display_data",
          "data": {
            "image/png": "[encoded data removed]",
            "text/plain": [
              "<Figure size 432x288 with 1 Axes>"
            ]
          },
          "metadata": {
            "tags": [],
            "needs_background": "light"
          }
        }
      ]
    },
    {
      "cell_type": "markdown",
      "metadata": {
        "id": "lhnoQ1c92Zas",
        "colab_type": "text"
      },
      "source": [
        "#Testing"
      ]
    },
    {
      "cell_type": "code",
      "metadata": {
        "id": "aCrbAPPC2eBN",
        "colab_type": "code",
        "outputId": "afefec39-35ee-4597-9940-bb5ffb603570",
        "colab": {
          "base_uri": "https://localhost:8080/",
          "height": 52
        }
      },
      "source": [
        "test_datagen = ImageDataGenerator()\n",
        "test_data_dir = \"/content/drive/My Drive/Project/Test/test/\"\n",
        "print('Total number of images for \"testing\":')\n",
        "dataset_test = test_datagen.flow_from_directory(\n",
        "test_data_dir,\n",
        "target_size = (224, 224),\n",
        "batch_size = 10,\n",
        "class_mode = \"categorical\",\n",
        "shuffle=False)"
      ],
      "execution_count": 0,
      "outputs": [
        {
          "output_type": "stream",
          "text": [
            "Total number of images for \"testing\":\n",
            "Found 256 images belonging to 2 classes.\n"
          ],
          "name": "stdout"
        }
      ]
    },
    {
      "cell_type": "code",
      "metadata": {
        "id": "UbxZsbqU2fWC",
        "colab_type": "code",
        "outputId": "5a06a94d-6037-4fc5-8cf3-17cdb45f2f27",
        "colab": {
          "base_uri": "https://localhost:8080/",
          "height": 34
        }
      },
      "source": [
        "#Predict accuracy for test set\n",
        "loss, accuracy = model.evaluate_generator(dataset_test)\n",
        "print(\"Test: accuracy = %f  ;  loss = %f \" % (accuracy, loss))"
      ],
      "execution_count": 0,
      "outputs": [
        {
          "output_type": "stream",
          "text": [
            "Test: accuracy = 0.953125  ;  loss = 0.076346 \n"
          ],
          "name": "stdout"
        }
      ]
    },
    {
      "cell_type": "code",
      "metadata": {
        "id": "RN6UmImYPEln",
        "colab_type": "code",
        "colab": {}
      },
      "source": [
        ""
      ],
      "execution_count": 0,
      "outputs": []
    }
  ]
}